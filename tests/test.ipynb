{
 "cells": [
  {
   "attachments": {},
   "cell_type": "markdown",
   "metadata": {},
   "source": [
    "# JAXKnife Tutorial\n",
    "\n",
    "Installation Instructions:\n",
    "make a new conda environment with python=3.10\n",
    "pip install jax\n",
    "pip install jaxlib"
   ]
  },
  {
   "cell_type": "code",
   "execution_count": 1,
   "metadata": {},
   "outputs": [],
   "source": [
    "# !pip install jax jaxlib"
   ]
  },
  {
   "cell_type": "code",
   "execution_count": 2,
   "metadata": {},
   "outputs": [],
   "source": [
    "import jax\n",
    "import jax.numpy as jnp\n",
    "import numpy as np\n",
    "import matplotlib.pyplot as plt\n",
    "from scipy.stats import bootstrap as scp_bootstrap\n",
    "from bootstrap import *"
   ]
  },
  {
   "cell_type": "code",
   "execution_count": 3,
   "metadata": {},
   "outputs": [],
   "source": [
    "def com1D(data):\n",
    "\n",
    "    # assume m=1 for all particles\n",
    "    # assume first element of each particle is x-position\n",
    "\n",
    "    xs = data[:,0]\n",
    "\n",
    "    return np.sum(xs) / len(xs)\n",
    "\n",
    "\n",
    "np.random.seed(0)\n",
    "test_data = np.random.uniform(-1,1,size=(100,6))\n",
    "\n",
    "#print(test_data)\n",
    "\n"
   ]
  },
  {
   "cell_type": "code",
   "execution_count": 4,
   "metadata": {},
   "outputs": [
    {
     "name": "stdout",
     "output_type": "stream",
     "text": [
      "COM median: -0.0320349258550883\n",
      "COM stdev: 0.06116269673841857\n"
     ]
    }
   ],
   "source": [
    "#%timeit \n",
    "com_arr = bootstrap(test_data,com1D,n_resamples=1000,seed=0)\n",
    "\n",
    "print(f'COM median: {np.median(com_arr)}\\nCOM stdev: {np.std(com_arr)}')"
   ]
  },
  {
   "cell_type": "code",
   "execution_count": null,
   "metadata": {},
   "outputs": [],
   "source": []
  },
  {
   "cell_type": "code",
   "execution_count": 5,
   "metadata": {},
   "outputs": [
    {
     "name": "stdout",
     "output_type": "stream",
     "text": [
      "COM median: -0.021368831396102905\n",
      "COM stdev: 0.1493859887123108\n"
     ]
    }
   ],
   "source": [
    "#%timeit \n",
    "COMs = jaxstrap(test_data,com1D,n_resamples=1000,seed=0)\n",
    "print(f'COM median: {np.median(COMs)}\\nCOM stdev: {np.std(COMs)}')"
   ]
  },
  {
   "cell_type": "code",
   "execution_count": 6,
   "metadata": {},
   "outputs": [],
   "source": [
    "# Eventually\n",
    "# %timeit COMs = scp_bootstrap(test_data, com1D, n_resamples=1000)\n"
   ]
  },
  {
   "attachments": {},
   "cell_type": "markdown",
   "metadata": {},
   "source": []
  }
 ],
 "metadata": {
  "kernelspec": {
   "display_name": "jaxknife",
   "language": "python",
   "name": "python3"
  },
  "language_info": {
   "codemirror_mode": {
    "name": "ipython",
    "version": 3
   },
   "file_extension": ".py",
   "mimetype": "text/x-python",
   "name": "python",
   "nbconvert_exporter": "python",
   "pygments_lexer": "ipython3",
   "version": "3.10.12"
  },
  "orig_nbformat": 4
 },
 "nbformat": 4,
 "nbformat_minor": 2
}
