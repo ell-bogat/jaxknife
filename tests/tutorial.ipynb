{
 "cells": [
  {
   "attachments": {},
   "cell_type": "markdown",
   "metadata": {},
   "source": [
    "# JAXKnife Tutorial"
   ]
  },
  {
   "cell_type": "code",
   "execution_count": null,
   "metadata": {},
   "outputs": [],
   "source": [
    "from jaxknife.bootstrap import bootstrap, jackknife\n",
    "from jaxknife.stats_funcs import com_1D\n",
    "import numpy as np\n",
    "import matplotlib.pyplot as plt"
   ]
  },
  {
   "cell_type": "markdown",
   "metadata": {},
   "source": [
    "Generate fake 3D position data from a uniform distribution."
   ]
  },
  {
   "cell_type": "code",
   "execution_count": null,
   "metadata": {},
   "outputs": [],
   "source": [
    "seed, size = 1234, 1000\n",
    "np.random.seed(seed)\n",
    "data = np.random.uniform(-1, 1, size=(size, 3))"
   ]
  },
  {
   "cell_type": "markdown",
   "metadata": {},
   "source": [
    "Compute center of mass in the $x$ direction with 1000 bootstrap resamples and plot distribution."
   ]
  },
  {
   "cell_type": "code",
   "execution_count": null,
   "metadata": {},
   "outputs": [],
   "source": [
    "com_arr_boots = bootstrap(data,com_1D,n_resamples=1000,seed=0)\n",
    "com_arr_jackk = jackknife(data,com_1D)\n",
    "\n",
    "# print(f'COM median: {np.median(com_arr_boots)}\\nCOM stdev: {np.std(com_arr_boots)}')\n",
    "\n",
    "plt.hist(com_arr_boots, bins=50, alpha=0.5)\n",
    "plt.hist(com_arr_jackk, bins=50, alpha=0.5)\n",
    "plt.xlabel(r'$x$');"
   ]
  },
  {
   "cell_type": "code",
   "execution_count": null,
   "metadata": {},
   "outputs": [],
   "source": []
  }
 ],
 "metadata": {
  "kernelspec": {
   "display_name": "jaxknife",
   "language": "python",
   "name": "python3"
  },
  "language_info": {
   "codemirror_mode": {
    "name": "ipython",
    "version": 3
   },
   "file_extension": ".py",
   "mimetype": "text/x-python",
   "name": "python",
   "nbconvert_exporter": "python",
   "pygments_lexer": "ipython3",
   "version": "3.10.12"
  },
  "orig_nbformat": 4
 },
 "nbformat": 4,
 "nbformat_minor": 2
}
