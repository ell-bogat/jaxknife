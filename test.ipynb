{
 "cells": [
  {
   "attachments": {},
   "cell_type": "markdown",
   "metadata": {},
   "source": [
    "# JAXKnife Tutorial\n",
    "\n",
    "Installation Instructions:\n",
    "make a new conda environment with python=3.10\n",
    "pip install jax\n",
    "pip install jaxlib"
   ]
  },
  {
   "cell_type": "code",
   "execution_count": 7,
   "metadata": {},
   "outputs": [],
   "source": [
    "# !pip install jax jaxlib"
   ]
  },
  {
   "cell_type": "code",
   "execution_count": 6,
   "metadata": {},
   "outputs": [],
   "source": [
    "import jax\n",
    "import jax.numpy as jnp\n",
    "import numpy as np\n",
    "import matplotlib.pyplot as plt\n",
    "from scipy.stats import bootstrap as scp_bootstrap"
   ]
  },
  {
   "cell_type": "code",
   "execution_count": null,
   "metadata": {},
   "outputs": [],
   "source": [
    "def bootstrap(data,estimator,n_samples=1000,seed=0):\n",
    "    \"\"\"\n",
    "    Input: \n",
    "    data        (array-like)\n",
    "    estimator   (function)\n",
    "    n_samples   (int)\n",
    "    seed        (int)\n",
    "    \"\"\"\n",
    "\n",
    "    key = jax.random.PRNGKey(seed)\n",
    " \n",
    "    for i in n_samples:\n",
    "        key, subkey = jax.random.split(key)\n",
    "        jax.random.choice(subkey,np)),replace=True)\n"
   ]
  },
  {
   "attachments": {},
   "cell_type": "markdown",
   "metadata": {},
   "source": []
  }
 ],
 "metadata": {
  "kernelspec": {
   "display_name": "jaxknife",
   "language": "python",
   "name": "python3"
  },
  "language_info": {
   "codemirror_mode": {
    "name": "ipython",
    "version": 3
   },
   "file_extension": ".py",
   "mimetype": "text/x-python",
   "name": "python",
   "nbconvert_exporter": "python",
   "pygments_lexer": "ipython3",
   "version": "3.10.12"
  },
  "orig_nbformat": 4
 },
 "nbformat": 4,
 "nbformat_minor": 2
}
