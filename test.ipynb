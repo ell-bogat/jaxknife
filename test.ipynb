{
 "cells": [
  {
   "attachments": {},
   "cell_type": "markdown",
   "metadata": {},
   "source": [
    "# JAXKnife Tutorial\n",
    "\n",
    "Installation Instructions:\n",
    "make a new conda environment with python=3.10\n",
    "pip install jax\n",
    "pip install jaxlib"
   ]
  },
  {
   "cell_type": "code",
   "execution_count": 1,
   "metadata": {},
   "outputs": [],
   "source": [
    "# !pip install jax jaxlib"
   ]
  },
  {
   "cell_type": "code",
   "execution_count": 2,
   "metadata": {},
   "outputs": [],
   "source": [
    "import jax\n",
    "import jax.numpy as jnp\n",
    "import numpy as np\n",
    "import matplotlib.pyplot as plt\n",
    "from scipy.stats import bootstrap as scp_bootstrap\n",
    "from bootstrap import *"
   ]
  },
  {
   "cell_type": "code",
   "execution_count": 3,
   "metadata": {},
   "outputs": [
    {
     "name": "stdout",
     "output_type": "stream",
     "text": [
      "COM median: -0.03450720012187958\n",
      "COM stdev: 0.035639873715351746\n"
     ]
    }
   ],
   "source": [
    "def com1D(data):\n",
    "\n",
    "    # assume m=1 for all particles\n",
    "    # assume first element of each particle is x-position\n",
    "\n",
    "    xs = data[:,0]\n",
    "\n",
    "    return jnp.sum(xs) / len(xs)\n",
    "\n",
    "\n",
    "np.random.seed(0)\n",
    "test_data = np.random.uniform(-1,1,size=(100,6))\n",
    "\n",
    "#print(test_data)\n",
    "\n"
   ]
  },
  {
   "cell_type": "code",
   "execution_count": 11,
   "metadata": {},
   "outputs": [
    {
     "name": "stdout",
     "output_type": "stream",
     "text": [
      "1.94 s ± 131 ms per loop (mean ± std. dev. of 7 runs, 1 loop each)\n",
      "COM median: -0.03450720012187958\n",
      "COM stdev: 0.035639873715351746\n"
     ]
    }
   ],
   "source": [
    "%timeit com_arr = bootstrap_loop(test_data,com1D,n_resamples=1000,seed=0)\n",
    "\n",
    "print(f'COM median: {np.median(com_arr)}\\nCOM stdev: {np.std(com_arr)}')"
   ]
  },
  {
   "cell_type": "code",
   "execution_count": 10,
   "metadata": {},
   "outputs": [
    {
     "name": "stdout",
     "output_type": "stream",
     "text": [
      "16.8 ms ± 709 µs per loop (mean ± std. dev. of 7 runs, 10 loops each)\n",
      "COM median: -0.021368831396102905\n",
      "COM stdev: 0.1493859887123108\n"
     ]
    }
   ],
   "source": [
    "%timeit COMs = jaxstrap(test_data,com1D,n_resamples=1000,seed=0)\n",
    "print(f'COM median: {np.median(COMs)}\\nCOM stdev: {np.std(COMs)}')"
   ]
  },
  {
   "cell_type": "code",
   "execution_count": 14,
   "metadata": {},
   "outputs": [
    {
     "ename": "IndexError",
     "evalue": "too many indices for array: array is 1-dimensional, but 2 were indexed",
     "output_type": "error",
     "traceback": [
      "\u001b[0;31m---------------------------------------------------------------------------\u001b[0m",
      "\u001b[0;31mIndexError\u001b[0m                                Traceback (most recent call last)",
      "Cell \u001b[0;32mIn[14], line 1\u001b[0m\n\u001b[0;32m----> 1\u001b[0m get_ipython()\u001b[39m.\u001b[39;49mrun_line_magic(\u001b[39m'\u001b[39;49m\u001b[39mtimeit\u001b[39;49m\u001b[39m'\u001b[39;49m, \u001b[39m'\u001b[39;49m\u001b[39mCOMs = scp_bootstrap([test_data], com1D, n_resamples=1000)\u001b[39;49m\u001b[39m'\u001b[39;49m)\n",
      "File \u001b[0;32m~/opt/anaconda3/envs/jaxknife/lib/python3.10/site-packages/IPython/core/interactiveshell.py:2417\u001b[0m, in \u001b[0;36mInteractiveShell.run_line_magic\u001b[0;34m(self, magic_name, line, _stack_depth)\u001b[0m\n\u001b[1;32m   2415\u001b[0m     kwargs[\u001b[39m'\u001b[39m\u001b[39mlocal_ns\u001b[39m\u001b[39m'\u001b[39m] \u001b[39m=\u001b[39m \u001b[39mself\u001b[39m\u001b[39m.\u001b[39mget_local_scope(stack_depth)\n\u001b[1;32m   2416\u001b[0m \u001b[39mwith\u001b[39;00m \u001b[39mself\u001b[39m\u001b[39m.\u001b[39mbuiltin_trap:\n\u001b[0;32m-> 2417\u001b[0m     result \u001b[39m=\u001b[39m fn(\u001b[39m*\u001b[39;49margs, \u001b[39m*\u001b[39;49m\u001b[39m*\u001b[39;49mkwargs)\n\u001b[1;32m   2419\u001b[0m \u001b[39m# The code below prevents the output from being displayed\u001b[39;00m\n\u001b[1;32m   2420\u001b[0m \u001b[39m# when using magics with decodator @output_can_be_silenced\u001b[39;00m\n\u001b[1;32m   2421\u001b[0m \u001b[39m# when the last Python token in the expression is a ';'.\u001b[39;00m\n\u001b[1;32m   2422\u001b[0m \u001b[39mif\u001b[39;00m \u001b[39mgetattr\u001b[39m(fn, magic\u001b[39m.\u001b[39mMAGIC_OUTPUT_CAN_BE_SILENCED, \u001b[39mFalse\u001b[39;00m):\n",
      "File \u001b[0;32m~/opt/anaconda3/envs/jaxknife/lib/python3.10/site-packages/IPython/core/magics/execution.py:1170\u001b[0m, in \u001b[0;36mExecutionMagics.timeit\u001b[0;34m(self, line, cell, local_ns)\u001b[0m\n\u001b[1;32m   1168\u001b[0m \u001b[39mfor\u001b[39;00m index \u001b[39min\u001b[39;00m \u001b[39mrange\u001b[39m(\u001b[39m0\u001b[39m, \u001b[39m10\u001b[39m):\n\u001b[1;32m   1169\u001b[0m     number \u001b[39m=\u001b[39m \u001b[39m10\u001b[39m \u001b[39m*\u001b[39m\u001b[39m*\u001b[39m index\n\u001b[0;32m-> 1170\u001b[0m     time_number \u001b[39m=\u001b[39m timer\u001b[39m.\u001b[39;49mtimeit(number)\n\u001b[1;32m   1171\u001b[0m     \u001b[39mif\u001b[39;00m time_number \u001b[39m>\u001b[39m\u001b[39m=\u001b[39m \u001b[39m0.2\u001b[39m:\n\u001b[1;32m   1172\u001b[0m         \u001b[39mbreak\u001b[39;00m\n",
      "File \u001b[0;32m~/opt/anaconda3/envs/jaxknife/lib/python3.10/site-packages/IPython/core/magics/execution.py:158\u001b[0m, in \u001b[0;36mTimer.timeit\u001b[0;34m(self, number)\u001b[0m\n\u001b[1;32m    156\u001b[0m gc\u001b[39m.\u001b[39mdisable()\n\u001b[1;32m    157\u001b[0m \u001b[39mtry\u001b[39;00m:\n\u001b[0;32m--> 158\u001b[0m     timing \u001b[39m=\u001b[39m \u001b[39mself\u001b[39;49m\u001b[39m.\u001b[39;49minner(it, \u001b[39mself\u001b[39;49m\u001b[39m.\u001b[39;49mtimer)\n\u001b[1;32m    159\u001b[0m \u001b[39mfinally\u001b[39;00m:\n\u001b[1;32m    160\u001b[0m     \u001b[39mif\u001b[39;00m gcold:\n",
      "File \u001b[0;32m<magic-timeit>:1\u001b[0m, in \u001b[0;36minner\u001b[0;34m(_it, _timer)\u001b[0m\n",
      "File \u001b[0;32m~/opt/anaconda3/envs/jaxknife/lib/python3.10/site-packages/scipy/stats/_resampling.py:630\u001b[0m, in \u001b[0;36mbootstrap\u001b[0;34m(data, statistic, n_resamples, batch, vectorized, paired, axis, confidence_level, alternative, method, bootstrap_result, random_state)\u001b[0m\n\u001b[1;32m    627\u001b[0m         resampled_data\u001b[39m.\u001b[39mappend(resample)\n\u001b[1;32m    629\u001b[0m     \u001b[39m# Compute bootstrap distribution of statistic\u001b[39;00m\n\u001b[0;32m--> 630\u001b[0m     theta_hat_b\u001b[39m.\u001b[39mappend(statistic(\u001b[39m*\u001b[39;49mresampled_data, axis\u001b[39m=\u001b[39;49m\u001b[39m-\u001b[39;49m\u001b[39m1\u001b[39;49m))\n\u001b[1;32m    631\u001b[0m theta_hat_b \u001b[39m=\u001b[39m np\u001b[39m.\u001b[39mconcatenate(theta_hat_b, axis\u001b[39m=\u001b[39m\u001b[39m-\u001b[39m\u001b[39m1\u001b[39m)\n\u001b[1;32m    633\u001b[0m \u001b[39m# Calculate percentile interval\u001b[39;00m\n",
      "File \u001b[0;32m~/opt/anaconda3/envs/jaxknife/lib/python3.10/site-packages/scipy/stats/_resampling.py:38\u001b[0m, in \u001b[0;36m_vectorize_statistic.<locals>.stat_nd\u001b[0;34m(axis, *data)\u001b[0m\n\u001b[1;32m     35\u001b[0m     data \u001b[39m=\u001b[39m np\u001b[39m.\u001b[39msplit(z, split_indices)\n\u001b[1;32m     36\u001b[0m     \u001b[39mreturn\u001b[39;00m statistic(\u001b[39m*\u001b[39mdata)\n\u001b[0;32m---> 38\u001b[0m \u001b[39mreturn\u001b[39;00m np\u001b[39m.\u001b[39;49mapply_along_axis(stat_1d, \u001b[39m0\u001b[39;49m, z)[()]\n",
      "File \u001b[0;32m~/opt/anaconda3/envs/jaxknife/lib/python3.10/site-packages/numpy/lib/shape_base.py:379\u001b[0m, in \u001b[0;36mapply_along_axis\u001b[0;34m(func1d, axis, arr, *args, **kwargs)\u001b[0m\n\u001b[1;32m    375\u001b[0m \u001b[39mexcept\u001b[39;00m \u001b[39mStopIteration\u001b[39;00m:\n\u001b[1;32m    376\u001b[0m     \u001b[39mraise\u001b[39;00m \u001b[39mValueError\u001b[39;00m(\n\u001b[1;32m    377\u001b[0m         \u001b[39m'\u001b[39m\u001b[39mCannot apply_along_axis when any iteration dimensions are 0\u001b[39m\u001b[39m'\u001b[39m\n\u001b[1;32m    378\u001b[0m     ) \u001b[39mfrom\u001b[39;00m \u001b[39mNone\u001b[39;00m\n\u001b[0;32m--> 379\u001b[0m res \u001b[39m=\u001b[39m asanyarray(func1d(inarr_view[ind0], \u001b[39m*\u001b[39;49margs, \u001b[39m*\u001b[39;49m\u001b[39m*\u001b[39;49mkwargs))\n\u001b[1;32m    381\u001b[0m \u001b[39m# build a buffer for storing evaluations of func1d.\u001b[39;00m\n\u001b[1;32m    382\u001b[0m \u001b[39m# remove the requested axis, and add the new ones on the end.\u001b[39;00m\n\u001b[1;32m    383\u001b[0m \u001b[39m# laid out so that each write is contiguous.\u001b[39;00m\n\u001b[1;32m    384\u001b[0m \u001b[39m# for a tuple index inds, buff[inds] = func1d(inarr_view[inds])\u001b[39;00m\n\u001b[1;32m    385\u001b[0m buff \u001b[39m=\u001b[39m zeros(inarr_view\u001b[39m.\u001b[39mshape[:\u001b[39m-\u001b[39m\u001b[39m1\u001b[39m] \u001b[39m+\u001b[39m res\u001b[39m.\u001b[39mshape, res\u001b[39m.\u001b[39mdtype)\n",
      "File \u001b[0;32m~/opt/anaconda3/envs/jaxknife/lib/python3.10/site-packages/scipy/stats/_resampling.py:36\u001b[0m, in \u001b[0;36m_vectorize_statistic.<locals>.stat_nd.<locals>.stat_1d\u001b[0;34m(z)\u001b[0m\n\u001b[1;32m     34\u001b[0m \u001b[39mdef\u001b[39;00m \u001b[39mstat_1d\u001b[39m(z):\n\u001b[1;32m     35\u001b[0m     data \u001b[39m=\u001b[39m np\u001b[39m.\u001b[39msplit(z, split_indices)\n\u001b[0;32m---> 36\u001b[0m     \u001b[39mreturn\u001b[39;00m statistic(\u001b[39m*\u001b[39;49mdata)\n",
      "Cell \u001b[0;32mIn[3], line 6\u001b[0m, in \u001b[0;36mcom1D\u001b[0;34m(data)\u001b[0m\n\u001b[1;32m      1\u001b[0m \u001b[39mdef\u001b[39;00m \u001b[39mcom1D\u001b[39m(data):\n\u001b[1;32m      2\u001b[0m \n\u001b[1;32m      3\u001b[0m     \u001b[39m# assume m=1 for all particles\u001b[39;00m\n\u001b[1;32m      4\u001b[0m     \u001b[39m# assume first element of each particle is x-position\u001b[39;00m\n\u001b[0;32m----> 6\u001b[0m     xs \u001b[39m=\u001b[39m data[:,\u001b[39m0\u001b[39;49m]\n\u001b[1;32m      8\u001b[0m     \u001b[39mreturn\u001b[39;00m jnp\u001b[39m.\u001b[39msum(xs) \u001b[39m/\u001b[39m \u001b[39mlen\u001b[39m(xs)\n",
      "\u001b[0;31mIndexError\u001b[0m: too many indices for array: array is 1-dimensional, but 2 were indexed"
     ]
    }
   ],
   "source": [
    "%timeit COMs = scp_bootstrap(test_data, com1D, n_resamples=1000)\n"
   ]
  },
  {
   "attachments": {},
   "cell_type": "markdown",
   "metadata": {},
   "source": []
  }
 ],
 "metadata": {
  "kernelspec": {
   "display_name": "jaxknife",
   "language": "python",
   "name": "python3"
  },
  "language_info": {
   "codemirror_mode": {
    "name": "ipython",
    "version": 3
   },
   "file_extension": ".py",
   "mimetype": "text/x-python",
   "name": "python",
   "nbconvert_exporter": "python",
   "pygments_lexer": "ipython3",
   "version": "3.10.12"
  },
  "orig_nbformat": 4
 },
 "nbformat": 4,
 "nbformat_minor": 2
}
