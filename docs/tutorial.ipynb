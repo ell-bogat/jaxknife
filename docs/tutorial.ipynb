{
 "cells": [
  {
   "attachments": {},
   "cell_type": "markdown",
   "metadata": {},
   "source": [
    "# JAXKnife Tutorial"
   ]
  },
  {
   "cell_type": "code",
   "execution_count": 7,
   "metadata": {},
   "outputs": [],
   "source": [
    "from jaxknife.jaxknife import bootstrap\n",
    "from jaxknife.stats_funcs import com_1D\n",
    "import numpy as np\n",
    "import matplotlib.pyplot as plt\n",
    "import scipy"
   ]
  },
  {
   "attachments": {},
   "cell_type": "markdown",
   "metadata": {},
   "source": [
    "Generate fake 3D position data from a uniform distribution."
   ]
  },
  {
   "cell_type": "code",
   "execution_count": 2,
   "metadata": {},
   "outputs": [],
   "source": [
    "seed, size = 1234, 1000\n",
    "np.random.seed(seed)\n",
    "data = np.random.uniform(-1, 1, size=(size, 3))"
   ]
  },
  {
   "cell_type": "code",
   "execution_count": 3,
   "metadata": {},
   "outputs": [],
   "source": [
    "def np_bootstrap(data,statistic_func,n_resamples=1000,seed=0):\n",
    "    \"\"\"\n",
    "    Bootstrap method using numpy and a for loop\n",
    "\n",
    "    Input: \n",
    "    data            (array-like)\n",
    "    statistic_func  (function)\n",
    "    n_samples       (int)\n",
    "    seed            (int)\n",
    "    \"\"\"\n",
    "\n",
    "    est_arr = np.zeros(n_resamples)\n",
    "    np.random.seed(seed)\n",
    " \n",
    "    for i in range(n_resamples):\n",
    "        idx = np.random.randint(len(data), size=len(data))\n",
    "        resample = data[idx]\n",
    "        \n",
    "        est_arr[i] = statistic_func(resample)\n",
    "\n",
    "    return est_arr"
   ]
  },
  {
   "attachments": {},
   "cell_type": "markdown",
   "metadata": {},
   "source": [
    "Compute center of mass in the $x$ direction with 1000 bootstrap resamples and plot distribution."
   ]
  },
  {
   "cell_type": "code",
   "execution_count": 4,
   "metadata": {},
   "outputs": [
    {
     "data": {
      "image/png": "[encoded data removed]",
      "text/plain": [
       "<Figure size 640x480 with 1 Axes>"
      ]
     },
     "metadata": {},
     "output_type": "display_data"
    }
   ],
   "source": [
    "com_arr_boots = bootstrap(data,com_1D,n_resamples=1000,seed=0)\n",
    "plt.hist(com_arr_boots, bins=50, alpha=0.5)\n",
    "plt.xlabel(r'$x$');"
   ]
  },
  {
   "cell_type": "code",
   "execution_count": 5,
   "metadata": {},
   "outputs": [
    {
     "name": "stdout",
     "output_type": "stream",
     "text": [
      "712 ms ± 56.4 ms per loop (mean ± std. dev. of 7 runs, 1 loop each)\n"
     ]
    }
   ],
   "source": [
    "%timeit com_arr_boots = np_bootstrap(data,com_1D,n_resamples=1000,seed=0)"
   ]
  },
  {
   "cell_type": "code",
   "execution_count": 6,
   "metadata": {},
   "outputs": [
    {
     "name": "stdout",
     "output_type": "stream",
     "text": [
      "62.7 ms ± 24.5 ms per loop (mean ± std. dev. of 7 runs, 10 loops each)\n"
     ]
    }
   ],
   "source": [
    "%timeit com_arr_boots = bootstrap(data,com_1D,n_resamples=1000,seed=0)"
   ]
  },
  {
   "cell_type": "code",
   "execution_count": null,
   "metadata": {},
   "outputs": [],
   "source": []
  },
  {
   "cell_type": "code",
   "execution_count": null,
   "metadata": {},
   "outputs": [],
   "source": []
  }
 ],
 "metadata": {
  "kernelspec": {
   "display_name": "jaxknife",
   "language": "python",
   "name": "python3"
  },
  "language_info": {
   "codemirror_mode": {
    "name": "ipython",
    "version": 3
   },
   "file_extension": ".py",
   "mimetype": "text/x-python",
   "name": "python",
   "nbconvert_exporter": "python",
   "pygments_lexer": "ipython3",
   "version": "3.10.11"
  },
  "orig_nbformat": 4
 },
 "nbformat": 4,
 "nbformat_minor": 2
}
